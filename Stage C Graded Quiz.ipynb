{
 "cells": [
  {
   "cell_type": "markdown",
   "id": "f8235b3d",
   "metadata": {},
   "source": [
    "## Abass-Alesinloye Oluwatobi Stage C Graded Quiz\n",
    "## Hamoye ID: 146eb423f281f000"
   ]
  },
  {
   "cell_type": "code",
   "execution_count": null,
   "id": "1ffdc05b",
   "metadata": {},
   "outputs": [],
   "source": [
    "#Stating and importing some libraries\n",
    "import numpy as np\n",
    "import pandas as pd\n",
    "import matplotlib.pyplot as plt\n",
    "%matplotlib inline"
   ]
  },
  {
   "cell_type": "code",
   "execution_count": null,
   "id": "759779dd",
   "metadata": {},
   "outputs": [],
   "source": [
    "dataframe = pd.read_csv('Data_for_UCI_named.csv', encoding='latin-1')"
   ]
  },
  {
   "cell_type": "code",
   "execution_count": null,
   "id": "fcfbf6d6",
   "metadata": {},
   "outputs": [],
   "source": [
    "#Retrieving features and labels\n",
    "x = dataframe.drop(columns=['stabf'])\n",
    "\n",
    "y = dataframe['stabf']"
   ]
  },
  {
   "cell_type": "code",
   "execution_count": null,
   "id": "44de4dd2",
   "metadata": {},
   "outputs": [],
   "source": [
    "#Importing the train test split\n",
    "from sklearn.model_selection import train_test_split\n",
    "x_train, x_test, y_train, y_test = train_test_split(x, y, test_size=0.2, random_state=1)\n"
   ]
  },
  {
   "cell_type": "code",
   "execution_count": null,
   "id": "1662d4b7",
   "metadata": {},
   "outputs": [],
   "source": [
    "#Implementing the Standard scaler to transform split datasets\n",
    "from sklearn.preprocessing import StandardScaler\n",
    "\n",
    "scaler = StandardScaler()\n",
    "scaler.fit(x_train)\n",
    "\n",
    "x_train_scaled = scaler.transform(x_train)\n",
    "x_test_scaled = scaler.transform(x_test)"
   ]
  },
  {
   "cell_type": "code",
   "execution_count": null,
   "id": "7c68d1dd",
   "metadata": {},
   "outputs": [],
   "source": [
    "#Converting to dataframe\n",
    "x_train_scaled = pd.DataFrame(x_train_scaled, columns = x_train.columns)\n",
    "x_test_scaled = pd.DataFrame(x_test_scaled, columns = x_test.columns)"
   ]
  },
  {
   "cell_type": "markdown",
   "id": "768e5d34",
   "metadata": {},
   "source": [
    "To build the Models"
   ]
  },
  {
   "cell_type": "markdown",
   "id": "9c7440a0",
   "metadata": {},
   "source": [
    "RandomForestClassifier"
   ]
  },
  {
   "cell_type": "code",
   "execution_count": null,
   "id": "f78997ea",
   "metadata": {},
   "outputs": [],
   "source": [
    "#Set uo and train a RandomForestClassifier \n",
    "from sklearn.ensemble import RandomForestClassifier\n",
    "\n",
    "rfc = RandomForestClassifier(random_state = 1)\n",
    "\n",
    "#fitting on training set\n",
    "rfc.fit(x_train_scaled, y_train)\n",
    "\n",
    "#make predictions on test set\n",
    "rf_pred = rfc.predict(x_test_scaled)"
   ]
  },
  {
   "cell_type": "code",
   "execution_count": null,
   "id": "3aec4d0c",
   "metadata": {},
   "outputs": [],
   "source": [
    "#To get the model accuracy for RandomForestClassifier\n",
    "from sklearn.metrics import accuracy_score\n",
    "\n",
    "accuracy = accuracy_score(y_test, rf_pred)\n",
    "print('Accuracy is {} to 4dp'.format(round(accuracy*100), 4))"
   ]
  },
  {
   "cell_type": "markdown",
   "id": "1c977ab0",
   "metadata": {},
   "source": [
    "ExtraTreeClassifier"
   ]
  },
  {
   "cell_type": "code",
   "execution_count": null,
   "id": "93bfd6b4",
   "metadata": {},
   "outputs": [],
   "source": [
    "#Set up and training EXtratree\n",
    "from sklearn.ensemble import ExtraTreesClassifier\n",
    "\n",
    "etc = ExtraTreesClassifier(random_state = 1)\n",
    "\n",
    "#fitting on the train set\n",
    "etc.fit(x_train_scaled, y_train)\n",
    "\n",
    "#predict on test set\n",
    "etc_pred = etc.predict(x_test_scaled)"
   ]
  },
  {
   "cell_type": "code",
   "execution_count": null,
   "id": "5e8d22f7",
   "metadata": {},
   "outputs": [],
   "source": [
    "#For testing model accuracy\n",
    "etc_accuracy = accuracy_score(y_test, etc_pred)\n",
    "print('Accuracy is {} to 4dp'.format(round(etc_accuracy*100), 4))"
   ]
  },
  {
   "cell_type": "markdown",
   "id": "3c3ff90b",
   "metadata": {},
   "source": [
    "XGBoost"
   ]
  },
  {
   "cell_type": "code",
   "execution_count": null,
   "id": "55790485",
   "metadata": {},
   "outputs": [],
   "source": [
    "#Set up and training XGBoost\n",
    "from xgboost import XGBClassifier\n",
    "\n",
    "xbc= XGBClassifier(random_state = 1)\n",
    "\n",
    "#fitting on training set\n",
    "xbc.fit(x_train_scaled, y_train)\n",
    "\n",
    "#predicting on test set\n",
    "xbc_pred = xbc.predict(x_test_scaled)\n",
    "\n",
    "#For testing model accuracy\n",
    "xbc_accuracy = accuracy_score(y_test, xbc_pred)\n",
    "print('Accuracy is {} to 4dp'.format(round(xbc_accuracy*100), 4))"
   ]
  },
  {
   "cell_type": "markdown",
   "id": "2b65b8f5",
   "metadata": {},
   "source": [
    "LGBM"
   ]
  },
  {
   "cell_type": "code",
   "execution_count": null,
   "id": "0c33945e",
   "metadata": {},
   "outputs": [],
   "source": [
    "#Setting up and training LGBM\n",
    "from lightgbm import LGBMClassifier\n",
    "\n",
    "lgbm= LGBMClassifier(random_state = 1)\n",
    "\n",
    "#fit on train set\n",
    "lgbm.fit(x_train_scaled, y_train)"
   ]
  },
  {
   "cell_type": "code",
   "execution_count": null,
   "id": "d111ece5",
   "metadata": {},
   "outputs": [],
   "source": [
    "#To predict on test set\n",
    "lgbm_pred = lgbm.predict(x_test_scaled)\n",
    "\n",
    "#For testing model accuracy\n",
    "lgbm_accuracy = accuracy_score(y_test, lgbm_pred)\n",
    "print('Accuracy is {} to 4dp'.format(round(lgbm_accuracy*100), 4))"
   ]
  },
  {
   "cell_type": "markdown",
   "id": "d36d50b3",
   "metadata": {},
   "source": [
    "Training new ExtraTreesClassifier"
   ]
  },
  {
   "cell_type": "code",
   "execution_count": null,
   "id": "5704ecaa",
   "metadata": {},
   "outputs": [],
   "source": [
    "#For the combination of hyperparameters\n",
    "n_estimators = [50, 100, 300, 500, 1000]\n",
    "\n",
    "min_samples_split = [2, 3, 5, 7, 9]\n",
    "\n",
    "min_samples_leaf = [1, 2, 4, 6, 8]\n",
    "\n",
    "max_features = ['auto', 'sqrt', 'log2', None] \n",
    "\n",
    "hyperparameter_grid = {'n_estimators': n_estimators,\n",
    "\n",
    "                       'min_samples_leaf': min_samples_leaf,\n",
    "\n",
    "                       'min_samples_split': min_samples_split,\n",
    "\n",
    "                       'max_features': max_features}"
   ]
  },
  {
   "cell_type": "code",
   "execution_count": null,
   "id": "eb36446f",
   "metadata": {},
   "outputs": [],
   "source": [
    "from sklearn.model_selection import RandomizedSearchCV\n",
    "\n",
    "#randomsearch with 5 folds\n",
    "\n",
    "randomcv = RandomizedSearchCV(estimator = etc, param_distributions = hyperparameter_grid, cv=5, n_iter=10, scoring = 'accuracy', n_jobs = -1, verbose = 1, random_state = 1)"
   ]
  },
  {
   "cell_type": "code",
   "execution_count": null,
   "id": "9526e993",
   "metadata": {},
   "outputs": [],
   "source": [
    "#fitting on the training data\n",
    "search = randomcv.fit(x_train_scaled, y_train)"
   ]
  },
  {
   "cell_type": "code",
   "execution_count": null,
   "id": "a3540a48",
   "metadata": {},
   "outputs": [],
   "source": [
    "#Looking for Hyperparameters\n",
    "search.best_params_"
   ]
  },
  {
   "cell_type": "code",
   "execution_count": null,
   "id": "6f4eb35d",
   "metadata": {},
   "outputs": [],
   "source": [
    "#Finalising return and printing feature importance\n",
    "importance = etc2.feature_importances_\n",
    "for i,v in enumerate(importance):\n",
    "    print('Feature: %0d, Score: %.5f' % (i,v))"
   ]
  },
  {
   "cell_type": "code",
   "execution_count": null,
   "id": "3e3c298c",
   "metadata": {},
   "outputs": [],
   "source": [
    "#For testing ExtraTreesClassifier on test set using Hyper parameters\n",
    "etc2 = ExtraTreesClassifier(max_features = None, \n",
    "                            min_samples_leaf= 8,\n",
    "                            min_samples_split= 2,\n",
    "                            n_estimators= 1000, \n",
    "                            random_state = 1)\n",
    "\n",
    "#fit on train set\n",
    "etc2.fit(x_train_scaled, y_train)"
   ]
  },
  {
   "cell_type": "code",
   "execution_count": null,
   "id": "4e58163e",
   "metadata": {},
   "outputs": [],
   "source": [
    "#To predict on test set\n",
    "etc2_pred = etc2.predict(x_test_scaled)"
   ]
  },
  {
   "cell_type": "code",
   "execution_count": null,
   "id": "039b0a9b",
   "metadata": {},
   "outputs": [],
   "source": [
    "#To get classification report\n",
    "print('Classification Report:\\n', classification_report(y_test,etc2_pred, digits =4))"
   ]
  },
  {
   "cell_type": "code",
   "execution_count": null,
   "id": "56d0087e",
   "metadata": {},
   "outputs": [],
   "source": []
  },
  {
   "cell_type": "code",
   "execution_count": null,
   "id": "302d57e7",
   "metadata": {},
   "outputs": [],
   "source": []
  }
 ],
 "metadata": {
  "kernelspec": {
   "display_name": "Python 3 (ipykernel)",
   "language": "python",
   "name": "python3"
  },
  "language_info": {
   "codemirror_mode": {
    "name": "ipython",
    "version": 3
   },
   "file_extension": ".py",
   "mimetype": "text/x-python",
   "name": "python",
   "nbconvert_exporter": "python",
   "pygments_lexer": "ipython3",
   "version": "3.9.7"
  }
 },
 "nbformat": 4,
 "nbformat_minor": 5
}
